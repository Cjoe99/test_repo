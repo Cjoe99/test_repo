{
 "cells": [
  {
   "cell_type": "code",
   "execution_count": 3,
   "metadata": {},
   "outputs": [],
   "source": [
    "import pymysql\n",
    "from pymysql.err import IntegrityError, InternalError\n",
    "\n",
    "def insertData(host='host.docker.internal', port=3306, user='root', passwd='root', db='TESTDB', charset='utf8mb4'):\n",
    "    effectedRow = -1\n",
    "    \n",
    "    try:\n",
    "        conn = pymysql.connect(host=host, port=port, user=user, passwd=passwd, db=db, charset=charset)\n",
    "    except RuntimeError as e:\n",
    "        print(e)\n",
    "        return -1\n",
    "    except InternalError as e:\n",
    "        print(e)\n",
    "        return -1\n",
    "\n",
    "    cursor = conn.cursor()\n",
    "\n",
    "    sql_insert = \"\"\"\n",
    "    INSERT INTO Staff (ID, Name, DeptId, Age, Gender, Salary, recordDt)\n",
    "    VALUES ('001', 'Mike', '002', '45', 'M', '60000', '2020-04-29 21:04:52');\n",
    "    \"\"\"\n",
    "\n",
    "    try:\n",
    "        effectedRow = cursor.execute(sql_insert)\n",
    "    except IntegrityError as e:\n",
    "        sql_delete = \"\"\"DELETE FROM Staff WHERE ID = '001';\"\"\"\n",
    "        cursor.execute(sql_delete)\n",
    "        effectedRow = cursor.execute(sql_insert)\n",
    "    except:\n",
    "        pass\n",
    "    finally:\n",
    "        conn.commit()\n",
    "        cursor.close()\n",
    "        conn.close()\n",
    "    return effectedRow\n",
    "    "
   ]
  }
 ],
 "metadata": {
  "kernelspec": {
   "display_name": "Python 3",
   "language": "python",
   "name": "python3"
  },
  "language_info": {
   "codemirror_mode": {
    "name": "ipython",
    "version": 3
   },
   "file_extension": ".py",
   "mimetype": "text/x-python",
   "name": "python",
   "nbconvert_exporter": "python",
   "pygments_lexer": "ipython3",
   "version": "3.12.6"
  }
 },
 "nbformat": 4,
 "nbformat_minor": 2
}
